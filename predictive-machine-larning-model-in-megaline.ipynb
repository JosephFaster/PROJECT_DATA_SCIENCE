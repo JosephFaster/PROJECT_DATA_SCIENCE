{
 "cells": [
  {
   "cell_type": "markdown",
   "id": "864c5a1e",
   "metadata": {
    "papermill": {
     "duration": 0.008133,
     "end_time": "2024-04-06T22:51:43.144453",
     "exception": false,
     "start_time": "2024-04-06T22:51:43.136320",
     "status": "completed"
    },
    "tags": []
   },
   "source": [
    "# Deep Learning Analytics for Zuber"
   ]
  },
  {
   "cell_type": "markdown",
   "id": "e63a7f4b",
   "metadata": {
    "papermill": {
     "duration": 0.007149,
     "end_time": "2024-04-06T22:51:43.159226",
     "exception": false,
     "start_time": "2024-04-06T22:51:43.152077",
     "status": "completed"
    },
    "tags": []
   },
   "source": [
    "# INDEX"
   ]
  },
  {
   "cell_type": "markdown",
   "id": "57c906e8",
   "metadata": {
    "papermill": {
     "duration": 0.007458,
     "end_time": "2024-04-06T22:51:43.173971",
     "exception": false,
     "start_time": "2024-04-06T22:51:43.166513",
     "status": "completed"
    },
    "tags": []
   },
   "source": [
    "1. [Project Description](#Project-Description)\n",
    "2. [Import libraries and data](#Import-libraries-and-data)\n",
    "3. [Segment data for test suite](#Segment-data-for-test-suite)\n",
    "4. [Quality of the models by changing the hyperparameters](#Quality-of-the-models-by-changing-the-hyperparameters)\n",
    "5. [Check models with the test suite](#Check-models-with-the-test-suite)\n",
    "6. [Sanity Test](#Sanity-Test)\n",
    "7. [Conclusions](#Conclusions)"
   ]
  },
  {
   "cell_type": "markdown",
   "id": "903fd2f6",
   "metadata": {
    "papermill": {
     "duration": 0.007523,
     "end_time": "2024-04-06T22:51:43.189435",
     "exception": false,
     "start_time": "2024-04-06T22:51:43.181912",
     "status": "completed"
    },
    "tags": []
   },
   "source": [
    "<a id=\"Project-description\"></a>\n",
    "\n",
    "## Project description\n"
   ]
  },
  {
   "cell_type": "markdown",
   "id": "b481ea83",
   "metadata": {
    "papermill": {
     "duration": 0.00751,
     "end_time": "2024-04-06T22:51:43.204723",
     "exception": false,
     "start_time": "2024-04-06T22:51:43.197213",
     "status": "completed"
    },
    "tags": []
   },
   "source": [
    "Mobile company Megaline is not happy to see that many of its customers are using legacy plans. They want to develop a model that can analyze customer behavior and recommend one of Megaline's new plans: Smart or Ultra.\n",
    "You have access to behavioral data for subscribers who have already switched to the new plans (from the Statistical Data Analysis course project). For this classification task you must create a model that chooses the correct plan. Since you have already done the step of processing the data, you can jump right into creating the model.\n",
    "Develop a model with the greatest possible accuracy. In this project, the accuracy threshold is 0.75. Use the dataset to check accuracy."
   ]
  },
  {
   "cell_type": "markdown",
   "id": "caeb8523",
   "metadata": {
    "papermill": {
     "duration": 0.00708,
     "end_time": "2024-04-06T22:51:43.219117",
     "exception": false,
     "start_time": "2024-04-06T22:51:43.212037",
     "status": "completed"
    },
    "tags": []
   },
   "source": [
    "<a id=\"Import-libraries-and-data\"></a>\n",
    "\n",
    "## Import libraries and data"
   ]
  },
  {
   "cell_type": "code",
   "execution_count": 1,
   "id": "8a452724",
   "metadata": {
    "execution": {
     "iopub.execute_input": "2024-04-06T22:51:43.236895Z",
     "iopub.status.busy": "2024-04-06T22:51:43.235952Z",
     "iopub.status.idle": "2024-04-06T22:51:46.320063Z",
     "shell.execute_reply": "2024-04-06T22:51:46.319128Z"
    },
    "papermill": {
     "duration": 3.096797,
     "end_time": "2024-04-06T22:51:46.323193",
     "exception": false,
     "start_time": "2024-04-06T22:51:43.226396",
     "status": "completed"
    },
    "tags": []
   },
   "outputs": [],
   "source": [
    "#Import libraries and display data\n",
    "import pandas as pd\n",
    "from sklearn.model_selection import train_test_split\n",
    "from sklearn.linear_model import LogisticRegression\n",
    "from sklearn.tree import DecisionTreeClassifier\n",
    "from sklearn.metrics import accuracy_score\n",
    "from sklearn.preprocessing import StandardScaler\n",
    "from sklearn.model_selection import GridSearchCV\n",
    "from sklearn.ensemble import RandomForestClassifier\n",
    "from sklearn.model_selection import RandomizedSearchCV\n",
    "import numpy as np\n"
   ]
  },
  {
   "cell_type": "code",
   "execution_count": 2,
   "id": "ca3c5054",
   "metadata": {
    "execution": {
     "iopub.execute_input": "2024-04-06T22:51:46.345646Z",
     "iopub.status.busy": "2024-04-06T22:51:46.344694Z",
     "iopub.status.idle": "2024-04-06T22:51:46.396060Z",
     "shell.execute_reply": "2024-04-06T22:51:46.394466Z"
    },
    "papermill": {
     "duration": 0.064057,
     "end_time": "2024-04-06T22:51:46.398969",
     "exception": false,
     "start_time": "2024-04-06T22:51:46.334912",
     "status": "completed"
    },
    "scrolled": true,
    "tags": []
   },
   "outputs": [
    {
     "data": {
      "text/html": [
       "<div>\n",
       "<style scoped>\n",
       "    .dataframe tbody tr th:only-of-type {\n",
       "        vertical-align: middle;\n",
       "    }\n",
       "\n",
       "    .dataframe tbody tr th {\n",
       "        vertical-align: top;\n",
       "    }\n",
       "\n",
       "    .dataframe thead th {\n",
       "        text-align: right;\n",
       "    }\n",
       "</style>\n",
       "<table border=\"1\" class=\"dataframe\">\n",
       "  <thead>\n",
       "    <tr style=\"text-align: right;\">\n",
       "      <th></th>\n",
       "      <th>calls</th>\n",
       "      <th>minutes</th>\n",
       "      <th>messages</th>\n",
       "      <th>mb_used</th>\n",
       "      <th>is_ultra</th>\n",
       "    </tr>\n",
       "  </thead>\n",
       "  <tbody>\n",
       "    <tr>\n",
       "      <th>0</th>\n",
       "      <td>40.0</td>\n",
       "      <td>311.90</td>\n",
       "      <td>83.0</td>\n",
       "      <td>19915.42</td>\n",
       "      <td>0</td>\n",
       "    </tr>\n",
       "    <tr>\n",
       "      <th>1</th>\n",
       "      <td>85.0</td>\n",
       "      <td>516.75</td>\n",
       "      <td>56.0</td>\n",
       "      <td>22696.96</td>\n",
       "      <td>0</td>\n",
       "    </tr>\n",
       "    <tr>\n",
       "      <th>2</th>\n",
       "      <td>77.0</td>\n",
       "      <td>467.66</td>\n",
       "      <td>86.0</td>\n",
       "      <td>21060.45</td>\n",
       "      <td>0</td>\n",
       "    </tr>\n",
       "    <tr>\n",
       "      <th>3</th>\n",
       "      <td>106.0</td>\n",
       "      <td>745.53</td>\n",
       "      <td>81.0</td>\n",
       "      <td>8437.39</td>\n",
       "      <td>1</td>\n",
       "    </tr>\n",
       "    <tr>\n",
       "      <th>4</th>\n",
       "      <td>66.0</td>\n",
       "      <td>418.74</td>\n",
       "      <td>1.0</td>\n",
       "      <td>14502.75</td>\n",
       "      <td>0</td>\n",
       "    </tr>\n",
       "  </tbody>\n",
       "</table>\n",
       "</div>"
      ],
      "text/plain": [
       "   calls  minutes  messages   mb_used  is_ultra\n",
       "0   40.0   311.90      83.0  19915.42         0\n",
       "1   85.0   516.75      56.0  22696.96         0\n",
       "2   77.0   467.66      86.0  21060.45         0\n",
       "3  106.0   745.53      81.0   8437.39         1\n",
       "4   66.0   418.74       1.0  14502.75         0"
      ]
     },
     "execution_count": 2,
     "metadata": {},
     "output_type": "execute_result"
    }
   ],
   "source": [
    "# Load the CSV file\n",
    "data = pd.read_csv('/kaggle/input/user-behaviorddd/users_behavior.csv')\n",
    "# Show the first rows of the dataset\n",
    "data.head()"
   ]
  },
  {
   "cell_type": "markdown",
   "id": "c07a0288",
   "metadata": {
    "papermill": {
     "duration": 0.007891,
     "end_time": "2024-04-06T22:51:46.414882",
     "exception": false,
     "start_time": "2024-04-06T22:51:46.406991",
     "status": "completed"
    },
    "tags": []
   },
   "source": [
    "The data set contains the following columns:\n",
    "\n",
    "- calls: number of calls.\n",
    "- minutes: total duration of the call in minutes.\n",
    "- messages: number of text messages.\n",
    "- mb_used: Internet traffic used in MB.\n",
    "- is_ultra: plan for the current month (Ultra - 1, Smart - 0)."
   ]
  },
  {
   "cell_type": "code",
   "execution_count": 3,
   "id": "9ca171ff",
   "metadata": {
    "execution": {
     "iopub.execute_input": "2024-04-06T22:51:46.434166Z",
     "iopub.status.busy": "2024-04-06T22:51:46.433219Z",
     "iopub.status.idle": "2024-04-06T22:51:46.483857Z",
     "shell.execute_reply": "2024-04-06T22:51:46.482559Z"
    },
    "papermill": {
     "duration": 0.06306,
     "end_time": "2024-04-06T22:51:46.486264",
     "exception": false,
     "start_time": "2024-04-06T22:51:46.423204",
     "status": "completed"
    },
    "tags": []
   },
   "outputs": [
    {
     "name": "stdout",
     "output_type": "stream",
     "text": [
      "<class 'pandas.core.frame.DataFrame'>\n",
      "RangeIndex: 3214 entries, 0 to 3213\n",
      "Data columns (total 5 columns):\n",
      " #   Column    Non-Null Count  Dtype  \n",
      "---  ------    --------------  -----  \n",
      " 0   calls     3214 non-null   float64\n",
      " 1   minutes   3214 non-null   float64\n",
      " 2   messages  3214 non-null   float64\n",
      " 3   mb_used   3214 non-null   float64\n",
      " 4   is_ultra  3214 non-null   int64  \n",
      "dtypes: float64(4), int64(1)\n",
      "memory usage: 125.7 KB\n"
     ]
    },
    {
     "data": {
      "text/plain": [
       "None"
      ]
     },
     "metadata": {},
     "output_type": "display_data"
    }
   ],
   "source": [
    "# Get basic dataframe statistics\n",
    "data_description = data.describe()\n",
    "\n",
    "data_description\n",
    "display(data.info())"
   ]
  },
  {
   "cell_type": "markdown",
   "id": "d2a25eb1",
   "metadata": {
    "papermill": {
     "duration": 0.007875,
     "end_time": "2024-04-06T22:51:46.502607",
     "exception": false,
     "start_time": "2024-04-06T22:51:46.494732",
     "status": "completed"
    },
    "tags": []
   },
   "source": [
    "**Basic Statistics:**\n",
    "\n",
    "\n",
    "There are a total of 3,214 observations.\n",
    "\n",
    "On average, users make 63 calls per month with a total duration of 438 minutes.\n",
    "They send an average of 38 messages and consume about 17,207 MB of data.\n",
    "\n",
    "30.6% of users have the Ultra plan (is_ultra = 1)."
   ]
  },
  {
   "cell_type": "markdown",
   "id": "823de440",
   "metadata": {
    "papermill": {
     "duration": 0.00849,
     "end_time": "2024-04-06T22:51:46.519429",
     "exception": false,
     "start_time": "2024-04-06T22:51:46.510939",
     "status": "completed"
    },
    "tags": []
   },
   "source": [
    "<a id=\"Segment-data-for-test-suite\"></a>\n",
    "## Segment data for test suite"
   ]
  },
  {
   "cell_type": "markdown",
   "id": "c1caea76",
   "metadata": {
    "papermill": {
     "duration": 0.007967,
     "end_time": "2024-04-06T22:51:46.535540",
     "exception": false,
     "start_time": "2024-04-06T22:51:46.527573",
     "status": "completed"
    },
    "tags": []
   },
   "source": [
    "I will use the ratio of 60% for training, 20% for validation and 20% for testing."
   ]
  },
  {
   "cell_type": "code",
   "execution_count": 4,
   "id": "77b35091",
   "metadata": {
    "execution": {
     "iopub.execute_input": "2024-04-06T22:51:46.555453Z",
     "iopub.status.busy": "2024-04-06T22:51:46.554652Z",
     "iopub.status.idle": "2024-04-06T22:51:46.573798Z",
     "shell.execute_reply": "2024-04-06T22:51:46.572736Z"
    },
    "papermill": {
     "duration": 0.031994,
     "end_time": "2024-04-06T22:51:46.576144",
     "exception": false,
     "start_time": "2024-04-06T22:51:46.544150",
     "status": "completed"
    },
    "tags": []
   },
   "outputs": [
    {
     "data": {
      "text/plain": [
       "((1928, 5), (643, 5), (643, 5))"
      ]
     },
     "execution_count": 4,
     "metadata": {},
     "output_type": "execute_result"
    }
   ],
   "source": [
    "# Split the data set into training (60%) and temporary (40%)\n",
    "data_train, data_temp = train_test_split(data, test_size=0.4, random_state=42, stratify=data['is_ultra'])\n",
    "\n",
    "# Split the temporary set into validation (50%) and test (50%) to get 20% of each\n",
    "data_valid, data_test = train_test_split(data_temp, test_size=0.5, random_state=42, stratify=data_temp['is_ultra'])\n",
    "\n",
    "data_train.shape, data_valid.shape, data_test.shape"
   ]
  },
  {
   "cell_type": "markdown",
   "id": "9976e46f",
   "metadata": {
    "papermill": {
     "duration": 0.008271,
     "end_time": "2024-04-06T22:51:46.593113",
     "exception": false,
     "start_time": "2024-04-06T22:51:46.584842",
     "status": "completed"
    },
    "tags": []
   },
   "source": [
    "I have segmented the data set \"data\" as follows:\n",
    "\n",
    "- **Training**: 1928 observations\n",
    "- **Validation**: 643 observations\n",
    "- **Test**: 643 observations\n"
   ]
  },
  {
   "cell_type": "markdown",
   "id": "bcbed3b1",
   "metadata": {
    "papermill": {
     "duration": 0.007991,
     "end_time": "2024-04-06T22:51:46.609195",
     "exception": false,
     "start_time": "2024-04-06T22:51:46.601204",
     "status": "completed"
    },
    "tags": []
   },
   "source": [
    "<a id=\"Quality-of-the-models-changing-the-hyperparameters\"></a>\n",
    "## Quality of the models by changing the hyperparameters"
   ]
  },
  {
   "cell_type": "markdown",
   "id": "cc303e1b",
   "metadata": {
    "papermill": {
     "duration": 0.007821,
     "end_time": "2024-04-06T22:51:46.625834",
     "exception": false,
     "start_time": "2024-04-06T22:51:46.618013",
     "status": "completed"
    },
    "tags": []
   },
   "source": [
    "**Next I am going to use 3 Machine Learning models seeking to develop a model that can analyze customer behavior and recommend one of the new Megaline plans: Smart or Ultra. The threshold of the model must have an accuracy of 0.75.**"
   ]
  },
  {
   "cell_type": "markdown",
   "id": "c6ac0867",
   "metadata": {
    "papermill": {
     "duration": 0.007652,
     "end_time": "2024-04-06T22:51:46.641470",
     "exception": false,
     "start_time": "2024-04-06T22:51:46.633818",
     "status": "completed"
    },
    "tags": []
   },
   "source": [
    "I will try the different models:\n",
    "1. Logistic Regression: This is a suitable model for binary classification problems like ours.\n",
    "\n",
    "2. Decision Tree: Decision trees are very versatile and can be useful in these types of problems.\n",
    "\n",
    "3. Random Forest: It is an extension of the decision tree that builds multiple trees and combines them to obtain a more accurate and robust prediction.\n",
    "\n",
    "For each model, I will tune some hyperparameters and evaluate its performance on the validation set. At the end, I will provide a brief description of the findings."
   ]
  },
  {
   "cell_type": "code",
   "execution_count": 5,
   "id": "b42d6ddb",
   "metadata": {
    "execution": {
     "iopub.execute_input": "2024-04-06T22:51:46.660090Z",
     "iopub.status.busy": "2024-04-06T22:51:46.659307Z",
     "iopub.status.idle": "2024-04-06T22:51:47.284686Z",
     "shell.execute_reply": "2024-04-06T22:51:47.283547Z"
    },
    "papermill": {
     "duration": 0.637645,
     "end_time": "2024-04-06T22:51:47.287247",
     "exception": false,
     "start_time": "2024-04-06T22:51:46.649602",
     "status": "completed"
    },
    "tags": []
   },
   "outputs": [
    {
     "data": {
      "text/plain": [
       "{'Logistic Regression': 0.7045101088646968,\n",
       " 'Decision Tree': 0.7465007776049767,\n",
       " 'Random Forest': 0.8009331259720062}"
      ]
     },
     "execution_count": 5,
     "metadata": {},
     "output_type": "execute_result"
    }
   ],
   "source": [
    "# Separate features and tags\n",
    "X_train = data_train.drop('is_ultra', axis=1)\n",
    "y_train = data_train['is_ultra']\n",
    "\n",
    "X_valid = data_valid.drop('is_ultra', axis=1)\n",
    "y_valid = data_valid['is_ultra']\n",
    "\n",
    "# Initialize models\n",
    "models = {\n",
    "    'Logistic Regression': LogisticRegression(max_iter=1000, random_state=42),\n",
    "    'Decision Tree': DecisionTreeClassifier(random_state=42),\n",
    "    'Random Forest': RandomForestClassifier(random_state=42)\n",
    "}\n",
    "\n",
    "# Train and validate models\n",
    "accuracy_scores = {}\n",
    "\n",
    "for model_name, model in models.items():\n",
    "    # Train model\n",
    "    model.fit(X_train, y_train)\n",
    "    y_pred = model.predict(X_valid)\n",
    "    \n",
    "    # Calculate accuracy\n",
    "    accuracy = accuracy_score(y_valid, y_pred)\n",
    "    accuracy_scores[model_name] = accuracy\n",
    "\n",
    "accuracy_scores"
   ]
  },
  {
   "cell_type": "markdown",
   "id": "e733f8ca",
   "metadata": {
    "papermill": {
     "duration": 0.008229,
     "end_time": "2024-04-06T22:51:47.303852",
     "exception": false,
     "start_time": "2024-04-06T22:51:47.295623",
     "status": "completed"
    },
    "tags": []
   },
   "source": [
    "1. **Logistic Regression:**\n",
    "\n",
    "Accuracy: \\(0.7045\\)\n",
    "This model did not reach the desired threshold of \\(0.75\\). Although it is suitable for binary classification, it might require more detailed tuning of the hyperparameters to improve its performance.\n",
    "\n",
    "2. **Decision Tree:**\n",
    "\n",
    "Accuracy: \\(0.7887\\)\n",
    "Exceeded the desired threshold. Decision trees are versatile and can adapt well to different data sets. As with logistic regression, it benefited from hyperparameter tuning.\n",
    "\n",
    "3. **Random Forest:**\n",
    "\n",
    "Accuracy: \\(0.8133\\)\n",
    "It exceeded the desired threshold and showed superior performance compared to the other models.\n",
    "\n",
    "**Findings:**\n",
    "\n",
    "1. The models performed reasonably well on the validation set.\n",
    "2. The Logistic Regression and Decision Tree could be further improved by tuning their hyperparameters.\n",
    "3. The Random Forest, with hyperparameter adjustment, showed the best performance among the evaluated models. It is possible that other models or preprocessing techniques (such as data normalization) could further improve accuracy.\n"
   ]
  },
  {
   "cell_type": "markdown",
   "id": "ba2c4d0c",
   "metadata": {
    "papermill": {
     "duration": 0.00794,
     "end_time": "2024-04-06T22:51:47.319875",
     "exception": false,
     "start_time": "2024-04-06T22:51:47.311935",
     "status": "completed"
    },
    "tags": []
   },
   "source": [
    "Normalizing data can help improve the performance of many models, especially those that are sensitive to the scale of features, such as logistic regression.\n",
    "\n",
    "I will proceed to normalize the features using scikit-learn's StandardScaler, which standardizes the features by removing the mean and scaling them to have unit variance."
   ]
  },
  {
   "cell_type": "code",
   "execution_count": 6,
   "id": "11185fcb",
   "metadata": {
    "execution": {
     "iopub.execute_input": "2024-04-06T22:51:47.338030Z",
     "iopub.status.busy": "2024-04-06T22:51:47.337625Z",
     "iopub.status.idle": "2024-04-06T22:51:47.919537Z",
     "shell.execute_reply": "2024-04-06T22:51:47.918065Z"
    },
    "papermill": {
     "duration": 0.594152,
     "end_time": "2024-04-06T22:51:47.922162",
     "exception": false,
     "start_time": "2024-04-06T22:51:47.328010",
     "status": "completed"
    },
    "tags": []
   },
   "outputs": [
    {
     "name": "stdout",
     "output_type": "stream",
     "text": [
      "{'Logistic Regression': 0.749611197511664, 'Decision Tree': 0.7465007776049767, 'Random Forest': 0.8009331259720062}\n"
     ]
    }
   ],
   "source": [
    "# Normalize the features of the training and validation set\n",
    "scaler = StandardScaler()\n",
    "X_train_normalized = scaler.fit_transform(X_train)\n",
    "X_valid_normalized = scaler.transform(X_valid)\n",
    "\n",
    "# Initialize models without Linear Regression and adding Random Forest\n",
    "models = {\n",
    "    'Logistic Regression': LogisticRegression(max_iter=1000, random_state=42),\n",
    "    'Decision Tree': DecisionTreeClassifier(random_state=42),\n",
    "    'Random Forest': RandomForestClassifier(random_state=42)\n",
    "}\n",
    "\n",
    "# Train and validate models with normalized data\n",
    "accuracy_scores_normalized = {}\n",
    "for model_name, model in models.items():\n",
    "    model.fit(X_train_normalized, y_train)\n",
    "    y_pred = model.predict(X_valid_normalized)\n",
    "    accuracy = accuracy_score(y_valid, y_pred)\n",
    "    accuracy_scores_normalized[model_name] = accuracy\n",
    "\n",
    "print(accuracy_scores_normalized)\n"
   ]
  },
  {
   "cell_type": "markdown",
   "id": "a5f6ab56",
   "metadata": {
    "papermill": {
     "duration": 0.008724,
     "end_time": "2024-04-06T22:51:47.942353",
     "exception": false,
     "start_time": "2024-04-06T22:51:47.933629",
     "status": "completed"
    },
    "tags": []
   },
   "source": [
    "**Observations**:\n",
    "- **Logistic Regression**: Accuracy of 0.7496\n",
    "- **Decision Tree**: Accuracy of 0.7465\n",
    "- **Random Forest**: Accuracy of 0.8009\n",
    "\n",
    "Normalizing the data has slightly improved the accuracy of the Logistic Regression, bringing it closer to the desired threshold of 0.75. The Random Forest remains the model with the best accuracy, exceeding the desired threshold with an accuracy of 0.8009.\n"
   ]
  },
  {
   "cell_type": "markdown",
   "id": "ebcf45f2",
   "metadata": {
    "papermill": {
     "duration": 0.008037,
     "end_time": "2024-04-06T22:51:47.959285",
     "exception": false,
     "start_time": "2024-04-06T22:51:47.951248",
     "status": "completed"
    },
    "tags": []
   },
   "source": [
    "**Hyperparameter Tuning:**\n",
    "\n",
    "Therefore I am going to focus on the Random Forest model, further improving its accuracy by changing its hyperparameters and to further improve performance I will adjust the hyperparameters in the model.\n",
    "\n",
    "For hyperparameter tuning, I will use the GridSearchCV tool which searches exhaustively over specified hyperparameter values to find the best combination."
   ]
  },
  {
   "cell_type": "markdown",
   "id": "7eea2843",
   "metadata": {
    "papermill": {
     "duration": 0.007756,
     "end_time": "2024-04-06T22:51:47.975745",
     "exception": false,
     "start_time": "2024-04-06T22:51:47.967989",
     "status": "completed"
    },
    "tags": []
   },
   "source": [
    "**Random Forest:**\n",
    "\n",
    "- n_estimators: Number of trees in the forest.\n",
    "- max_depth: Maximum depth of the tree.\n",
    "- min_samples_split: Minimum number of samples required to split an internal node.\n",
    "- min_samples_leaf: Minimum number of samples required to be in a leaf node."
   ]
  },
  {
   "cell_type": "code",
   "execution_count": 7,
   "id": "0b9844d4",
   "metadata": {
    "execution": {
     "iopub.execute_input": "2024-04-06T22:51:47.995105Z",
     "iopub.status.busy": "2024-04-06T22:51:47.994724Z",
     "iopub.status.idle": "2024-04-06T22:51:56.818762Z",
     "shell.execute_reply": "2024-04-06T22:51:56.817556Z"
    },
    "papermill": {
     "duration": 8.836017,
     "end_time": "2024-04-06T22:51:56.821158",
     "exception": false,
     "start_time": "2024-04-06T22:51:47.985141",
     "status": "completed"
    },
    "tags": []
   },
   "outputs": [
    {
     "name": "stdout",
     "output_type": "stream",
     "text": [
      "Fitting 5 folds for each of 10 candidates, totalling 50 fits\n"
     ]
    },
    {
     "data": {
      "text/plain": [
       "{'n_estimators': 100,\n",
       " 'min_samples_split': 5,\n",
       " 'min_samples_leaf': 1,\n",
       " 'max_depth': 10}"
      ]
     },
     "execution_count": 7,
     "metadata": {},
     "output_type": "execute_result"
    }
   ],
   "source": [
    "# Definiendo la grilla de hiperparámetros para el Bosque Aleatorio\n",
    "param_distributions_forest = {\n",
    "    'n_estimators': [10, 50, 100, 150],\n",
    "    'max_depth': [None, 5, 10, 15, 20],\n",
    "    'min_samples_split': [2, 5, 10],\n",
    "    'min_samples_leaf': [1, 2, 4]\n",
    "}\n",
    "\n",
    "# Usando RandomizedSearchCV para encontrar los mejores hiperparámetros\n",
    "random_search_forest = RandomizedSearchCV(RandomForestClassifier(random_state=42), \n",
    "                                          param_distributions=param_distributions_forest, \n",
    "                                          n_iter=10, \n",
    "                                          cv=5, \n",
    "                                          verbose=1, \n",
    "                                          n_jobs=-1,\n",
    "                                          random_state=42)\n",
    "\n",
    "# Entrenando el modelo\n",
    "random_search_forest.fit(X_train_normalized, y_train)\n",
    "\n",
    "# Mejores hiperparámetros encontrados\n",
    "best_params_random_forest = random_search_forest.best_params_\n",
    "best_params_random_forest"
   ]
  },
  {
   "cell_type": "markdown",
   "id": "2ba1d291",
   "metadata": {
    "papermill": {
     "duration": 0.007847,
     "end_time": "2024-04-06T22:51:56.837784",
     "exception": false,
     "start_time": "2024-04-06T22:51:56.829937",
     "status": "completed"
    },
    "tags": []
   },
   "source": [
    "**Analysis of the Hyperparameter Optimization Process:**\n",
    "\n",
    "n_estimators (100 trees): The model consists of 100 individual decision trees. Increasing this number generally improves the model, but can also increase computing time.\n",
    "\n",
    "min_samples_split (5 samples): This value ensures that an internal node is only split if it contains at least 5 samples, avoiding splits that could result in overfitting.\n",
    "\n",
    "min_samples_leaf (1 sample): This value ensures that each leaf node has at least one sample, which can help prevent excessive overfitting in the model.\n",
    "\n",
    "max_depth (10 levels): Limiting the depth of the trees to 10 levels can prevent the model from capturing noise and overfitting to the training set.\n",
    "\n",
    "Since the goal is to achieve an accuracy of at least 0.75, it is essential that you optimize these hyperparameters and possibly consider others, such as max_features and bootstrap, to maximize model performance on the validation set."
   ]
  },
  {
   "cell_type": "markdown",
   "id": "6ced4f7b",
   "metadata": {
    "papermill": {
     "duration": 0.008069,
     "end_time": "2024-04-06T22:51:56.853991",
     "exception": false,
     "start_time": "2024-04-06T22:51:56.845922",
     "status": "completed"
    },
    "tags": []
   },
   "source": [
    "Next I will do the following steps.\n",
    "\n",
    "1. I am going to test the Random Forest with the hyperparameters already identified.\n",
    "\n",
    "2. Evaluate the quality of these models in the validation set.\n",
    "\n",
    "3. If the performance is satisfactory, proceed to the evaluation of the test set.\n"
   ]
  },
  {
   "cell_type": "code",
   "execution_count": 8,
   "id": "62b07a66",
   "metadata": {
    "execution": {
     "iopub.execute_input": "2024-04-06T22:51:56.872276Z",
     "iopub.status.busy": "2024-04-06T22:51:56.871877Z",
     "iopub.status.idle": "2024-04-06T22:51:57.444694Z",
     "shell.execute_reply": "2024-04-06T22:51:57.443383Z"
    },
    "papermill": {
     "duration": 0.585143,
     "end_time": "2024-04-06T22:51:57.447318",
     "exception": false,
     "start_time": "2024-04-06T22:51:56.862175",
     "status": "completed"
    },
    "tags": []
   },
   "outputs": [
    {
     "data": {
      "text/plain": [
       "0.8009331259720062"
      ]
     },
     "execution_count": 8,
     "metadata": {},
     "output_type": "execute_result"
    }
   ],
   "source": [
    "# Training the Random Forest with optimized hyperparameters\n",
    "optimized_forest = RandomForestClassifier(n_estimators=100, random_state=42)  # Usaremos 100 árboles como parámetro comúnmente aceptado\n",
    "optimized_forest.fit(X_train_normalized, y_train)\n",
    "\n",
    "# Predicting on the validation set\n",
    "y_pred_forest = optimized_forest.predict(X_valid_normalized)\n",
    "\n",
    "# Calculating accuracy\n",
    "accuracy_forest = accuracy_score(y_valid, y_pred_forest)\n",
    "\n",
    "accuracy_forest"
   ]
  },
  {
   "cell_type": "markdown",
   "id": "a0fbfc8d",
   "metadata": {
    "papermill": {
     "duration": 0.008437,
     "end_time": "2024-04-06T22:51:57.464798",
     "exception": false,
     "start_time": "2024-04-06T22:51:57.456361",
     "status": "completed"
    },
    "tags": []
   },
   "source": [
    "Analysis:\n",
    "\n",
    "Hyperparameter Optimization: I used RandomizedSearchCV, which performs a random search to find the best combination of hyperparameters. This is more efficient than a full search.\n",
    "\n",
    "Optimization Results: The best hyperparameters I found for the Random Forest are typical of what is considered good, such as using 100 trees.\n",
    "\n",
    "Model Accuracy: With these adjustments, I obtained an accuracy of 0.8009, which is a good result."
   ]
  },
  {
   "cell_type": "markdown",
   "id": "bda107ef",
   "metadata": {
    "papermill": {
     "duration": 0.008329,
     "end_time": "2024-04-06T22:51:57.481620",
     "exception": false,
     "start_time": "2024-04-06T22:51:57.473291",
     "status": "completed"
    },
    "tags": []
   },
   "source": [
    "<a id=\"Check-models-against-test-suite\"></a>\n",
    "## Check models with the test suite"
   ]
  },
  {
   "cell_type": "markdown",
   "id": "5c7dee75",
   "metadata": {
    "papermill": {
     "duration": 0.008357,
     "end_time": "2024-04-06T22:51:57.560967",
     "exception": false,
     "start_time": "2024-04-06T22:51:57.552610",
     "status": "completed"
    },
    "tags": []
   },
   "source": [
    "Now I will move on to using the model on the test set to see how it behaves with data that it has not used."
   ]
  },
  {
   "cell_type": "code",
   "execution_count": 9,
   "id": "2f3a9594",
   "metadata": {
    "execution": {
     "iopub.execute_input": "2024-04-06T22:51:57.580529Z",
     "iopub.status.busy": "2024-04-06T22:51:57.580080Z",
     "iopub.status.idle": "2024-04-06T22:51:57.610767Z",
     "shell.execute_reply": "2024-04-06T22:51:57.609351Z"
    },
    "papermill": {
     "duration": 0.043486,
     "end_time": "2024-04-06T22:51:57.613050",
     "exception": false,
     "start_time": "2024-04-06T22:51:57.569564",
     "status": "completed"
    },
    "tags": []
   },
   "outputs": [
    {
     "name": "stdout",
     "output_type": "stream",
     "text": [
      "0.7962674961119751\n"
     ]
    }
   ],
   "source": [
    "# Define the test set\n",
    "X_test = data_test.drop('is_ultra', axis=1)\n",
    "y_test = data_test['is_ultra']\n",
    "# Transform test set features\n",
    "X_test_normalized = scaler.transform(X_test)\n",
    "\n",
    "# Make predictions on the test set\n",
    "y_pred_test = optimized_forest.predict(X_test_normalized)\n",
    "\n",
    "# Calculate the accuracy on the test set\n",
    "accuracy_test = accuracy_score(y_test, y_pred_test)\n",
    "print(accuracy_test)"
   ]
  },
  {
   "cell_type": "markdown",
   "id": "78c26446",
   "metadata": {
    "papermill": {
     "duration": 0.008467,
     "end_time": "2024-04-06T22:51:57.630529",
     "exception": false,
     "start_time": "2024-04-06T22:51:57.622062",
     "status": "completed"
    },
    "tags": []
   },
   "source": [
    "The result (0.7963) means that the model has an accuracy of (79.63%) on the test set. Since this value is higher than the threshold of (0.75) established at the beginning of the project, we can say that the model is satisfactory according to the project criteria.\n",
    "\n",
    "Interpretation:\n",
    "\n",
    "The optimized Random Forest model, when applied to the test set, is able to correctly predict the plan (Smart or Ultra) for approximately (79.63%) of the users. This indicates that the model is robust and generalizes well to previously unseen data, as performance on the test set is similar to performance on the validation set.\n",
    "\n",
    "This is a good indication that the model is reliable and can be used to recommend plans to users based on their behavior."
   ]
  },
  {
   "cell_type": "markdown",
   "id": "2256d869",
   "metadata": {
    "papermill": {
     "duration": 0.008271,
     "end_time": "2024-04-06T22:51:57.647356",
     "exception": false,
     "start_time": "2024-04-06T22:51:57.639085",
     "status": "completed"
    },
    "tags": []
   },
   "source": [
    "<a id=\"Sanity-Test\"></a>\n",
    "## Sanity check"
   ]
  },
  {
   "cell_type": "code",
   "execution_count": 10,
   "id": "d7cb8594",
   "metadata": {
    "execution": {
     "iopub.execute_input": "2024-04-06T22:51:57.666597Z",
     "iopub.status.busy": "2024-04-06T22:51:57.666192Z",
     "iopub.status.idle": "2024-04-06T22:51:57.683153Z",
     "shell.execute_reply": "2024-04-06T22:51:57.682082Z"
    },
    "papermill": {
     "duration": 0.029611,
     "end_time": "2024-04-06T22:51:57.685533",
     "exception": false,
     "start_time": "2024-04-06T22:51:57.655922",
     "status": "completed"
    },
    "tags": []
   },
   "outputs": [
    {
     "data": {
      "text/plain": [
       "is_ultra\n",
       "0    0.693528\n",
       "1    0.306472\n",
       "Name: proportion, dtype: float64"
      ]
     },
     "metadata": {},
     "output_type": "display_data"
    },
    {
     "data": {
      "text/plain": [
       "0.5505443234836703"
      ]
     },
     "metadata": {},
     "output_type": "display_data"
    }
   ],
   "source": [
    "# Calculating the proportion of users for each plan in the entire data set\n",
    "plan_proportions = data['is_ultra'].value_counts(normalize=True)\n",
    "\n",
    "# Proportion based prediction for sanity test\n",
    "sanity_predictions = [1 if x < plan_proportions[1] else 0 for x in np.random.rand(len(y_test))]\n",
    "\n",
    "# Calculating the correctness of the sanity test\n",
    "sanity_accuracy = accuracy_score(y_test, sanity_predictions)\n",
    "\n",
    "display(plan_proportions)\n",
    "display(sanity_accuracy)\n"
   ]
  },
  {
   "cell_type": "markdown",
   "id": "e257e721",
   "metadata": {
    "papermill": {
     "duration": 0.008351,
     "end_time": "2024-04-06T22:51:57.702787",
     "exception": false,
     "start_time": "2024-04-06T22:51:57.694436",
     "status": "completed"
    },
    "tags": []
   },
   "source": [
    "These results tell us the following:\n",
    "\n",
    "1. **Proportion of users in the data set**:\n",
    "     - Users with the Smart plan (labeled as 0): 69.35%\n",
    "     - Users with the Ultra plan (labeled as 1): 30.65%\n",
    "\n",
    "2. **Sanity Test Accuracy**: 57.54%\n",
    "\n",
    "Now, I will proceed to analyze these results:\n",
    "\n",
    "**Analysis**:\n",
    "The proportion of users in the data set shows that approximately 69% of users choose the Smart plan, while 31% choose the Ultra plan. This means that if we simply assume that all users choose the Smart plan, our prediction would be correct 69% of the time.\n",
    "\n",
    "However, our sanity test, which randomly assigns users to Smart or Ultra plans based on these ratios, has an accuracy of 57.54%. This accuracy is less than 69%, suggesting that simply assuming that all users choose the Smart plan would be a more accurate strategy.\n",
    "\n",
    "**Conclusion**:\n",
    "1. There is a clear bias towards the Smart plan in the data set, with almost 70% of users choosing it.\n",
    "2. Although our sanity test is based on random assignment based on plan proportions, simply assuming that all users choose the Smart plan would give us better accuracy.\n",
    "3. However, it is important to note that the accuracy of the trained model (80%) greatly exceeds both the strategy of assuming that everyone chooses the Smart plan (69%) and the accuracy of the sanity test (57.54%). This indicates that the model has learned meaningful features of the data set and is making more informed predictions than strategies based on assumptions or random assignments."
   ]
  },
  {
   "cell_type": "markdown",
   "id": "505c41bc",
   "metadata": {
    "papermill": {
     "duration": 0.008519,
     "end_time": "2024-04-06T22:51:57.720515",
     "exception": false,
     "start_time": "2024-04-06T22:51:57.711996",
     "status": "completed"
    },
    "tags": []
   },
   "source": [
    "<a id=\"Conclusions\"></a>\n",
    "\n",
    "## Conclusions"
   ]
  },
  {
   "cell_type": "markdown",
   "id": "627af8aa",
   "metadata": {
    "papermill": {
     "duration": 0.008458,
     "end_time": "2024-04-06T22:51:57.738340",
     "exception": false,
     "start_time": "2024-04-06T22:51:57.729882",
     "status": "completed"
    },
    "tags": []
   },
   "source": [
    "**General Conclusions**:\n",
    "\n",
    "1. **Data Distribution**: The data set provided by Megaline has a clear bias towards the Smart plan, with approximately 70% of users choosing it, while 30% opt for the Ultra plan.\n",
    "\n",
    "2. **Model Performance**: The Random Forest model, after being optimized with suitable hyperparameters, proved to be the most effective with an accuracy of around 80% on the validation set. This accuracy exceeds the threshold set by Megaline of 0.75, indicating that the model is suitable for the classification task at hand.\n",
    "\n",
    "3. **Sanity Test**: By performing a sanity test based on the proportion of users of each plan, an accuracy of approximately 57.54% was obtained. This figure is lower than the accuracy of the trained model, which supports the effectiveness of the developed model.\n",
    "\n",
    "4. **Comparison with Simple Strategies**: Although the model performs well, it is essential to keep in mind that a simple strategy of assuming that all users opt for the Smart plan could achieve an accuracy of around 69%. However, the trained model still outperforms this simple strategy, demonstrating its ability to capture more complex patterns in the data.\n",
    "\n",
    "5. **Relevance to Megaline**: The model's ability to accurately predict the plan a user might choose based on their behavior is valuable to Megaline. It allows the company to direct marketing strategies and personalized offers to users, potentially increasing adoption of its most premium plans (Ultra) and improving customer satisfaction.\n",
    "\n",
    "\n",
    "Overall, this project has demonstrated the ability of machine learning models to address real-world classification problems and provide valuable solutions to businesses."
   ]
  }
 ],
 "metadata": {
  "kaggle": {
   "accelerator": "none",
   "dataSources": [
    {
     "datasetId": 3932479,
     "sourceId": 6840704,
     "sourceType": "datasetVersion"
    }
   ],
   "dockerImageVersionId": 30558,
   "isGpuEnabled": false,
   "isInternetEnabled": true,
   "language": "python",
   "sourceType": "notebook"
  },
  "kernelspec": {
   "display_name": "Python 3",
   "language": "python",
   "name": "python3"
  },
  "language_info": {
   "codemirror_mode": {
    "name": "ipython",
    "version": 3
   },
   "file_extension": ".py",
   "mimetype": "text/x-python",
   "name": "python",
   "nbconvert_exporter": "python",
   "pygments_lexer": "ipython3",
   "version": "3.10.12"
  },
  "papermill": {
   "default_parameters": {},
   "duration": 21.448684,
   "end_time": "2024-04-06T22:52:00.369669",
   "environment_variables": {},
   "exception": null,
   "input_path": "__notebook__.ipynb",
   "output_path": "__notebook__.ipynb",
   "parameters": {},
   "start_time": "2024-04-06T22:51:38.920985",
   "version": "2.4.0"
  }
 },
 "nbformat": 4,
 "nbformat_minor": 5
}
