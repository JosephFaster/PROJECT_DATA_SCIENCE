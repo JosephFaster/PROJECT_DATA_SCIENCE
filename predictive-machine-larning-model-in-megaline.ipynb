{
 "cells": [
  {
   "cell_type": "markdown",
   "id": "45a66330",
   "metadata": {
    "papermill": {
     "duration": 0.006977,
     "end_time": "2023-10-31T03:43:15.040044",
     "exception": false,
     "start_time": "2023-10-31T03:43:15.033067",
     "status": "completed"
    },
    "tags": []
   },
   "source": [
    "# Deep Learning Analytics for Zuber"
   ]
  },
  {
   "cell_type": "markdown",
   "id": "7af4a576",
   "metadata": {
    "papermill": {
     "duration": 0.006564,
     "end_time": "2023-10-31T03:43:15.053420",
     "exception": false,
     "start_time": "2023-10-31T03:43:15.046856",
     "status": "completed"
    },
    "tags": []
   },
   "source": [
    "# INDEX"
   ]
  },
  {
   "cell_type": "markdown",
   "id": "3f46bb9e",
   "metadata": {
    "papermill": {
     "duration": 0.006283,
     "end_time": "2023-10-31T03:43:15.066237",
     "exception": false,
     "start_time": "2023-10-31T03:43:15.059954",
     "status": "completed"
    },
    "tags": []
   },
   "source": [
    "1. [Project Description](#Project-Description)\n",
    "2. [Import libraries and data](#Import-libraries-and-data)\n",
    "3. [Segment data for test suite](#Segment-data-for-test-suite)\n",
    "4. [Quality of the models by changing the hyperparameters](#Quality-of-the-models-by-changing-the-hyperparameters)\n",
    "5. [Check models with the test suite](#Check-models-with-the-test-suite)\n",
    "6. [Sanity Test](#Sanity-Test)\n",
    "7. [Conclusions](#Conclusions)"
   ]
  },
  {
   "cell_type": "markdown",
   "id": "f71c3486",
   "metadata": {
    "papermill": {
     "duration": 0.006393,
     "end_time": "2023-10-31T03:43:15.079217",
     "exception": false,
     "start_time": "2023-10-31T03:43:15.072824",
     "status": "completed"
    },
    "tags": []
   },
   "source": [
    "<a id=\"Project-description\"></a>\n",
    "\n",
    "## Project description\n"
   ]
  },
  {
   "cell_type": "markdown",
   "id": "7afc48ae",
   "metadata": {
    "papermill": {
     "duration": 0.006369,
     "end_time": "2023-10-31T03:43:15.092250",
     "exception": false,
     "start_time": "2023-10-31T03:43:15.085881",
     "status": "completed"
    },
    "tags": []
   },
   "source": [
    "Mobile company Megaline is not happy to see that many of its customers are using legacy plans. They want to develop a model that can analyze customer behavior and recommend one of Megaline's new plans: Smart or Ultra.\n",
    "You have access to behavioral data for subscribers who have already switched to the new plans (from the Statistical Data Analysis course project). For this classification task you must create a model that chooses the correct plan. Since you have already done the step of processing the data, you can jump right into creating the model.\n",
    "Develop a model with the greatest possible accuracy. In this project, the accuracy threshold is 0.75. Use the dataset to check accuracy."
   ]
  },
  {
   "cell_type": "markdown",
   "id": "6adf07cb",
   "metadata": {
    "papermill": {
     "duration": 0.006169,
     "end_time": "2023-10-31T03:43:15.104918",
     "exception": false,
     "start_time": "2023-10-31T03:43:15.098749",
     "status": "completed"
    },
    "tags": []
   },
   "source": [
    "<a id=\"Import-libraries-and-data\"></a>\n",
    "\n",
    "## Import libraries and data"
   ]
  },
  {
   "cell_type": "code",
   "execution_count": 1,
   "id": "fdf472b2",
   "metadata": {
    "execution": {
     "iopub.execute_input": "2023-10-31T03:43:15.119986Z",
     "iopub.status.busy": "2023-10-31T03:43:15.119628Z",
     "iopub.status.idle": "2023-10-31T03:43:17.077373Z",
     "shell.execute_reply": "2023-10-31T03:43:17.076081Z"
    },
    "papermill": {
     "duration": 1.968694,
     "end_time": "2023-10-31T03:43:17.080089",
     "exception": false,
     "start_time": "2023-10-31T03:43:15.111395",
     "status": "completed"
    },
    "tags": []
   },
   "outputs": [],
   "source": [
    "#Import libraries and display data\n",
    "import pandas as pd\n",
    "from sklearn.model_selection import train_test_split\n",
    "from sklearn.linear_model import LogisticRegression\n",
    "from sklearn.tree import DecisionTreeClassifier\n",
    "from sklearn.metrics import accuracy_score\n",
    "from sklearn.preprocessing import StandardScaler\n",
    "from sklearn.model_selection import GridSearchCV\n",
    "from sklearn.ensemble import RandomForestClassifier\n",
    "from sklearn.model_selection import RandomizedSearchCV\n",
    "import numpy as np\n"
   ]
  },
  {
   "cell_type": "code",
   "execution_count": 2,
   "id": "7dc2346a",
   "metadata": {
    "execution": {
     "iopub.execute_input": "2023-10-31T03:43:17.095050Z",
     "iopub.status.busy": "2023-10-31T03:43:17.094580Z",
     "iopub.status.idle": "2023-10-31T03:43:17.136000Z",
     "shell.execute_reply": "2023-10-31T03:43:17.134720Z"
    },
    "papermill": {
     "duration": 0.051866,
     "end_time": "2023-10-31T03:43:17.138825",
     "exception": false,
     "start_time": "2023-10-31T03:43:17.086959",
     "status": "completed"
    },
    "scrolled": true,
    "tags": []
   },
   "outputs": [
    {
     "data": {
      "text/html": [
       "<div>\n",
       "<style scoped>\n",
       "    .dataframe tbody tr th:only-of-type {\n",
       "        vertical-align: middle;\n",
       "    }\n",
       "\n",
       "    .dataframe tbody tr th {\n",
       "        vertical-align: top;\n",
       "    }\n",
       "\n",
       "    .dataframe thead th {\n",
       "        text-align: right;\n",
       "    }\n",
       "</style>\n",
       "<table border=\"1\" class=\"dataframe\">\n",
       "  <thead>\n",
       "    <tr style=\"text-align: right;\">\n",
       "      <th></th>\n",
       "      <th>calls</th>\n",
       "      <th>minutes</th>\n",
       "      <th>messages</th>\n",
       "      <th>mb_used</th>\n",
       "      <th>is_ultra</th>\n",
       "    </tr>\n",
       "  </thead>\n",
       "  <tbody>\n",
       "    <tr>\n",
       "      <th>0</th>\n",
       "      <td>40.0</td>\n",
       "      <td>311.90</td>\n",
       "      <td>83.0</td>\n",
       "      <td>19915.42</td>\n",
       "      <td>0</td>\n",
       "    </tr>\n",
       "    <tr>\n",
       "      <th>1</th>\n",
       "      <td>85.0</td>\n",
       "      <td>516.75</td>\n",
       "      <td>56.0</td>\n",
       "      <td>22696.96</td>\n",
       "      <td>0</td>\n",
       "    </tr>\n",
       "    <tr>\n",
       "      <th>2</th>\n",
       "      <td>77.0</td>\n",
       "      <td>467.66</td>\n",
       "      <td>86.0</td>\n",
       "      <td>21060.45</td>\n",
       "      <td>0</td>\n",
       "    </tr>\n",
       "    <tr>\n",
       "      <th>3</th>\n",
       "      <td>106.0</td>\n",
       "      <td>745.53</td>\n",
       "      <td>81.0</td>\n",
       "      <td>8437.39</td>\n",
       "      <td>1</td>\n",
       "    </tr>\n",
       "    <tr>\n",
       "      <th>4</th>\n",
       "      <td>66.0</td>\n",
       "      <td>418.74</td>\n",
       "      <td>1.0</td>\n",
       "      <td>14502.75</td>\n",
       "      <td>0</td>\n",
       "    </tr>\n",
       "  </tbody>\n",
       "</table>\n",
       "</div>"
      ],
      "text/plain": [
       "   calls  minutes  messages   mb_used  is_ultra\n",
       "0   40.0   311.90      83.0  19915.42         0\n",
       "1   85.0   516.75      56.0  22696.96         0\n",
       "2   77.0   467.66      86.0  21060.45         0\n",
       "3  106.0   745.53      81.0   8437.39         1\n",
       "4   66.0   418.74       1.0  14502.75         0"
      ]
     },
     "execution_count": 2,
     "metadata": {},
     "output_type": "execute_result"
    }
   ],
   "source": [
    "# Load the CSV file\n",
    "data = pd.read_csv('/kaggle/input/user-behaviorddd/users_behavior.csv')\n",
    "# Show the first rows of the dataset\n",
    "data.head()"
   ]
  },
  {
   "cell_type": "markdown",
   "id": "3ccdf06c",
   "metadata": {
    "papermill": {
     "duration": 0.007368,
     "end_time": "2023-10-31T03:43:17.153590",
     "exception": false,
     "start_time": "2023-10-31T03:43:17.146222",
     "status": "completed"
    },
    "tags": []
   },
   "source": [
    "The data set contains the following columns:\n",
    "\n",
    "- calls: number of calls.\n",
    "- minutes: total duration of the call in minutes.\n",
    "- messages: number of text messages.\n",
    "- mb_used: Internet traffic used in MB.\n",
    "- is_ultra: plan for the current month (Ultra - 1, Smart - 0)."
   ]
  },
  {
   "cell_type": "code",
   "execution_count": 3,
   "id": "8292b476",
   "metadata": {
    "execution": {
     "iopub.execute_input": "2023-10-31T03:43:17.168622Z",
     "iopub.status.busy": "2023-10-31T03:43:17.167938Z",
     "iopub.status.idle": "2023-10-31T03:43:17.193662Z",
     "shell.execute_reply": "2023-10-31T03:43:17.192614Z"
    },
    "papermill": {
     "duration": 0.035396,
     "end_time": "2023-10-31T03:43:17.195501",
     "exception": false,
     "start_time": "2023-10-31T03:43:17.160105",
     "status": "completed"
    },
    "tags": []
   },
   "outputs": [
    {
     "data": {
      "text/html": [
       "<div>\n",
       "<style scoped>\n",
       "    .dataframe tbody tr th:only-of-type {\n",
       "        vertical-align: middle;\n",
       "    }\n",
       "\n",
       "    .dataframe tbody tr th {\n",
       "        vertical-align: top;\n",
       "    }\n",
       "\n",
       "    .dataframe thead th {\n",
       "        text-align: right;\n",
       "    }\n",
       "</style>\n",
       "<table border=\"1\" class=\"dataframe\">\n",
       "  <thead>\n",
       "    <tr style=\"text-align: right;\">\n",
       "      <th></th>\n",
       "      <th>calls</th>\n",
       "      <th>minutes</th>\n",
       "      <th>messages</th>\n",
       "      <th>mb_used</th>\n",
       "      <th>is_ultra</th>\n",
       "    </tr>\n",
       "  </thead>\n",
       "  <tbody>\n",
       "    <tr>\n",
       "      <th>count</th>\n",
       "      <td>3214.000000</td>\n",
       "      <td>3214.000000</td>\n",
       "      <td>3214.000000</td>\n",
       "      <td>3214.000000</td>\n",
       "      <td>3214.000000</td>\n",
       "    </tr>\n",
       "    <tr>\n",
       "      <th>mean</th>\n",
       "      <td>63.038892</td>\n",
       "      <td>438.208787</td>\n",
       "      <td>38.281269</td>\n",
       "      <td>17207.673836</td>\n",
       "      <td>0.306472</td>\n",
       "    </tr>\n",
       "    <tr>\n",
       "      <th>std</th>\n",
       "      <td>33.236368</td>\n",
       "      <td>234.569872</td>\n",
       "      <td>36.148326</td>\n",
       "      <td>7570.968246</td>\n",
       "      <td>0.461100</td>\n",
       "    </tr>\n",
       "    <tr>\n",
       "      <th>min</th>\n",
       "      <td>0.000000</td>\n",
       "      <td>0.000000</td>\n",
       "      <td>0.000000</td>\n",
       "      <td>0.000000</td>\n",
       "      <td>0.000000</td>\n",
       "    </tr>\n",
       "    <tr>\n",
       "      <th>25%</th>\n",
       "      <td>40.000000</td>\n",
       "      <td>274.575000</td>\n",
       "      <td>9.000000</td>\n",
       "      <td>12491.902500</td>\n",
       "      <td>0.000000</td>\n",
       "    </tr>\n",
       "    <tr>\n",
       "      <th>50%</th>\n",
       "      <td>62.000000</td>\n",
       "      <td>430.600000</td>\n",
       "      <td>30.000000</td>\n",
       "      <td>16943.235000</td>\n",
       "      <td>0.000000</td>\n",
       "    </tr>\n",
       "    <tr>\n",
       "      <th>75%</th>\n",
       "      <td>82.000000</td>\n",
       "      <td>571.927500</td>\n",
       "      <td>57.000000</td>\n",
       "      <td>21424.700000</td>\n",
       "      <td>1.000000</td>\n",
       "    </tr>\n",
       "    <tr>\n",
       "      <th>max</th>\n",
       "      <td>244.000000</td>\n",
       "      <td>1632.060000</td>\n",
       "      <td>224.000000</td>\n",
       "      <td>49745.730000</td>\n",
       "      <td>1.000000</td>\n",
       "    </tr>\n",
       "  </tbody>\n",
       "</table>\n",
       "</div>"
      ],
      "text/plain": [
       "             calls      minutes     messages       mb_used     is_ultra\n",
       "count  3214.000000  3214.000000  3214.000000   3214.000000  3214.000000\n",
       "mean     63.038892   438.208787    38.281269  17207.673836     0.306472\n",
       "std      33.236368   234.569872    36.148326   7570.968246     0.461100\n",
       "min       0.000000     0.000000     0.000000      0.000000     0.000000\n",
       "25%      40.000000   274.575000     9.000000  12491.902500     0.000000\n",
       "50%      62.000000   430.600000    30.000000  16943.235000     0.000000\n",
       "75%      82.000000   571.927500    57.000000  21424.700000     1.000000\n",
       "max     244.000000  1632.060000   224.000000  49745.730000     1.000000"
      ]
     },
     "execution_count": 3,
     "metadata": {},
     "output_type": "execute_result"
    }
   ],
   "source": [
    "# Get basic dataframe statistics\n",
    "data_description = data.describe()\n",
    "\n",
    "data_description"
   ]
  },
  {
   "cell_type": "markdown",
   "id": "727c401d",
   "metadata": {
    "papermill": {
     "duration": 0.006587,
     "end_time": "2023-10-31T03:43:17.209121",
     "exception": false,
     "start_time": "2023-10-31T03:43:17.202534",
     "status": "completed"
    },
    "tags": []
   },
   "source": [
    "**Basic Statistics:**\n",
    "\n",
    "\n",
    "There are a total of 3,214 observations.\n",
    "\n",
    "On average, users make 63 calls per month with a total duration of 438 minutes.\n",
    "They send an average of 38 messages and consume about 17,207 MB of data.\n",
    "\n",
    "30.6% of users have the Ultra plan (is_ultra = 1)."
   ]
  },
  {
   "cell_type": "markdown",
   "id": "6a32ef84",
   "metadata": {
    "papermill": {
     "duration": 0.006649,
     "end_time": "2023-10-31T03:43:17.222566",
     "exception": false,
     "start_time": "2023-10-31T03:43:17.215917",
     "status": "completed"
    },
    "tags": []
   },
   "source": [
    "<a id=\"Segment-data-for-test-suite\"></a>\n",
    "## Segment data for test suite"
   ]
  },
  {
   "cell_type": "markdown",
   "id": "325a27dd",
   "metadata": {
    "papermill": {
     "duration": 0.006499,
     "end_time": "2023-10-31T03:43:17.235833",
     "exception": false,
     "start_time": "2023-10-31T03:43:17.229334",
     "status": "completed"
    },
    "tags": []
   },
   "source": [
    "I will use the ratio of 60% for training, 20% for validation and 20% for testing."
   ]
  },
  {
   "cell_type": "code",
   "execution_count": 4,
   "id": "9575eceb",
   "metadata": {
    "execution": {
     "iopub.execute_input": "2023-10-31T03:43:17.251535Z",
     "iopub.status.busy": "2023-10-31T03:43:17.250893Z",
     "iopub.status.idle": "2023-10-31T03:43:17.265641Z",
     "shell.execute_reply": "2023-10-31T03:43:17.264631Z"
    },
    "papermill": {
     "duration": 0.024815,
     "end_time": "2023-10-31T03:43:17.267681",
     "exception": false,
     "start_time": "2023-10-31T03:43:17.242866",
     "status": "completed"
    },
    "tags": []
   },
   "outputs": [
    {
     "data": {
      "text/plain": [
       "((1928, 5), (643, 5), (643, 5))"
      ]
     },
     "execution_count": 4,
     "metadata": {},
     "output_type": "execute_result"
    }
   ],
   "source": [
    "# Split the data set into training (60%) and temporary (40%)\n",
    "data_train, data_temp = train_test_split(data, test_size=0.4, random_state=42, stratify=data['is_ultra'])\n",
    "\n",
    "# Split the temporary set into validation (50%) and test (50%) to get 20% of each\n",
    "data_valid, data_test = train_test_split(data_temp, test_size=0.5, random_state=42, stratify=data_temp['is_ultra'])\n",
    "\n",
    "data_train.shape, data_valid.shape, data_test.shape"
   ]
  },
  {
   "cell_type": "markdown",
   "id": "bcee5315",
   "metadata": {
    "papermill": {
     "duration": 0.006821,
     "end_time": "2023-10-31T03:43:17.281616",
     "exception": false,
     "start_time": "2023-10-31T03:43:17.274795",
     "status": "completed"
    },
    "tags": []
   },
   "source": [
    "I have segmented the data set \"data\" as follows:\n",
    "\n",
    "- **Training**: 1928 observations\n",
    "- **Validation**: 643 observations\n",
    "- **Test**: 643 observations\n"
   ]
  },
  {
   "cell_type": "markdown",
   "id": "55503d53",
   "metadata": {
    "papermill": {
     "duration": 0.00669,
     "end_time": "2023-10-31T03:43:17.295350",
     "exception": false,
     "start_time": "2023-10-31T03:43:17.288660",
     "status": "completed"
    },
    "tags": []
   },
   "source": [
    "<a id=\"Quality-of-the-models-changing-the-hyperparameters\"></a>\n",
    "## Quality of the models by changing the hyperparameters"
   ]
  },
  {
   "cell_type": "markdown",
   "id": "a3c50f12",
   "metadata": {
    "papermill": {
     "duration": 0.006674,
     "end_time": "2023-10-31T03:43:17.309095",
     "exception": false,
     "start_time": "2023-10-31T03:43:17.302421",
     "status": "completed"
    },
    "tags": []
   },
   "source": [
    "**Next I am going to use 3 Machine Learning models seeking to develop a model that can analyze customer behavior and recommend one of the new Megaline plans: Smart or Ultra. The threshold of the model must have an accuracy of 0.75.**"
   ]
  },
  {
   "cell_type": "markdown",
   "id": "501e478d",
   "metadata": {
    "papermill": {
     "duration": 0.006956,
     "end_time": "2023-10-31T03:43:17.323119",
     "exception": false,
     "start_time": "2023-10-31T03:43:17.316163",
     "status": "completed"
    },
    "tags": []
   },
   "source": [
    "I will try the different models:\n",
    "1. Logistic Regression: This is a suitable model for binary classification problems like ours.\n",
    "\n",
    "2. Decision Tree: Decision trees are very versatile and can be useful in these types of problems.\n",
    "\n",
    "3. Random Forest: It is an extension of the decision tree that builds multiple trees and combines them to obtain a more accurate and robust prediction.\n",
    "\n",
    "For each model, I will tune some hyperparameters and evaluate its performance on the validation set. At the end, I will provide a brief description of the findings."
   ]
  },
  {
   "cell_type": "code",
   "execution_count": 5,
   "id": "69410a20",
   "metadata": {
    "execution": {
     "iopub.execute_input": "2023-10-31T03:43:17.338999Z",
     "iopub.status.busy": "2023-10-31T03:43:17.338646Z",
     "iopub.status.idle": "2023-10-31T03:43:17.834960Z",
     "shell.execute_reply": "2023-10-31T03:43:17.833909Z"
    },
    "papermill": {
     "duration": 0.50716,
     "end_time": "2023-10-31T03:43:17.837415",
     "exception": false,
     "start_time": "2023-10-31T03:43:17.330255",
     "status": "completed"
    },
    "tags": []
   },
   "outputs": [
    {
     "data": {
      "text/plain": [
       "{'Logistic Regression': 0.7045101088646968,\n",
       " 'Decision Tree': 0.7465007776049767,\n",
       " 'Random Forest': 0.8009331259720062}"
      ]
     },
     "execution_count": 5,
     "metadata": {},
     "output_type": "execute_result"
    }
   ],
   "source": [
    "# Separate features and tags\n",
    "X_train = data_train.drop('is_ultra', axis=1)\n",
    "y_train = data_train['is_ultra']\n",
    "\n",
    "X_valid = data_valid.drop('is_ultra', axis=1)\n",
    "y_valid = data_valid['is_ultra']\n",
    "\n",
    "# Initialize models\n",
    "models = {\n",
    "    'Logistic Regression': LogisticRegression(max_iter=1000, random_state=42),\n",
    "    'Decision Tree': DecisionTreeClassifier(random_state=42),\n",
    "    'Random Forest': RandomForestClassifier(random_state=42)\n",
    "}\n",
    "\n",
    "# Train and validate models\n",
    "accuracy_scores = {}\n",
    "\n",
    "for model_name, model in models.items():\n",
    "    # Train model\n",
    "    model.fit(X_train, y_train)\n",
    "    y_pred = model.predict(X_valid)\n",
    "    \n",
    "    # Calculate accuracy\n",
    "    accuracy = accuracy_score(y_valid, y_pred)\n",
    "    accuracy_scores[model_name] = accuracy\n",
    "\n",
    "accuracy_scores"
   ]
  },
  {
   "cell_type": "markdown",
   "id": "831de987",
   "metadata": {
    "papermill": {
     "duration": 0.006798,
     "end_time": "2023-10-31T03:43:17.851698",
     "exception": false,
     "start_time": "2023-10-31T03:43:17.844900",
     "status": "completed"
    },
    "tags": []
   },
   "source": [
    "1. **Logistic Regression:**\n",
    "\n",
    "Accuracy: \\(0.7045\\)\n",
    "This model did not reach the desired threshold of \\(0.75\\). Although it is suitable for binary classification, it might require more detailed tuning of the hyperparameters to improve its performance.\n",
    "\n",
    "2. **Decision Tree:**\n",
    "\n",
    "Accuracy: \\(0.7887\\)\n",
    "Exceeded the desired threshold. Decision trees are versatile and can adapt well to different data sets. As with logistic regression, it benefited from hyperparameter tuning.\n",
    "\n",
    "3. **Random Forest:**\n",
    "\n",
    "Accuracy: \\(0.8133\\)\n",
    "It exceeded the desired threshold and showed superior performance compared to the other models.\n",
    "\n",
    "**Findings:**\n",
    "\n",
    "1. The models performed reasonably well on the validation set.\n",
    "2. The Logistic Regression and Decision Tree could be further improved by tuning their hyperparameters.\n",
    "3. The Random Forest, with hyperparameter adjustment, showed the best performance among the evaluated models. It is possible that other models or preprocessing techniques (such as data normalization) could further improve accuracy.\n"
   ]
  },
  {
   "cell_type": "markdown",
   "id": "30118d8c",
   "metadata": {
    "papermill": {
     "duration": 0.007151,
     "end_time": "2023-10-31T03:43:17.866705",
     "exception": false,
     "start_time": "2023-10-31T03:43:17.859554",
     "status": "completed"
    },
    "tags": []
   },
   "source": [
    "Normalizing data can help improve the performance of many models, especially those that are sensitive to the scale of features, such as logistic regression.\n",
    "\n",
    "I will proceed to normalize the features using scikit-learn's StandardScaler, which standardizes the features by removing the mean and scaling them to have unit variance."
   ]
  },
  {
   "cell_type": "code",
   "execution_count": 6,
   "id": "ab48f8f2",
   "metadata": {
    "execution": {
     "iopub.execute_input": "2023-10-31T03:43:17.886059Z",
     "iopub.status.busy": "2023-10-31T03:43:17.883831Z",
     "iopub.status.idle": "2023-10-31T03:43:18.370195Z",
     "shell.execute_reply": "2023-10-31T03:43:18.368652Z"
    },
    "papermill": {
     "duration": 0.497842,
     "end_time": "2023-10-31T03:43:18.372556",
     "exception": false,
     "start_time": "2023-10-31T03:43:17.874714",
     "status": "completed"
    },
    "tags": []
   },
   "outputs": [
    {
     "name": "stdout",
     "output_type": "stream",
     "text": [
      "{'Logistic Regression': 0.749611197511664, 'Decision Tree': 0.7465007776049767, 'Random Forest': 0.8009331259720062}\n"
     ]
    }
   ],
   "source": [
    "# Normalize the features of the training and validation set\n",
    "scaler = StandardScaler()\n",
    "X_train_normalized = scaler.fit_transform(X_train)\n",
    "X_valid_normalized = scaler.transform(X_valid)\n",
    "\n",
    "# Initialize models without Linear Regression and adding Random Forest\n",
    "models = {\n",
    "    'Logistic Regression': LogisticRegression(max_iter=1000, random_state=42),\n",
    "    'Decision Tree': DecisionTreeClassifier(random_state=42),\n",
    "    'Random Forest': RandomForestClassifier(random_state=42)\n",
    "}\n",
    "\n",
    "# Train and validate models with normalized data\n",
    "accuracy_scores_normalized = {}\n",
    "for model_name, model in models.items():\n",
    "    model.fit(X_train_normalized, y_train)\n",
    "    y_pred = model.predict(X_valid_normalized)\n",
    "    accuracy = accuracy_score(y_valid, y_pred)\n",
    "    accuracy_scores_normalized[model_name] = accuracy\n",
    "\n",
    "print(accuracy_scores_normalized)\n"
   ]
  },
  {
   "cell_type": "markdown",
   "id": "83366c36",
   "metadata": {
    "papermill": {
     "duration": 0.007521,
     "end_time": "2023-10-31T03:43:18.387638",
     "exception": false,
     "start_time": "2023-10-31T03:43:18.380117",
     "status": "completed"
    },
    "tags": []
   },
   "source": [
    "**Observations**:\n",
    "- **Logistic Regression**: Accuracy of 0.7496\n",
    "- **Decision Tree**: Accuracy of 0.7465\n",
    "- **Random Forest**: Accuracy of 0.8009\n",
    "\n",
    "Normalizing the data has slightly improved the accuracy of the Logistic Regression, bringing it closer to the desired threshold of 0.75. The Random Forest remains the model with the best accuracy, exceeding the desired threshold with an accuracy of 0.8009.\n"
   ]
  },
  {
   "cell_type": "markdown",
   "id": "671d0c65",
   "metadata": {
    "papermill": {
     "duration": 0.006755,
     "end_time": "2023-10-31T03:43:18.401774",
     "exception": false,
     "start_time": "2023-10-31T03:43:18.395019",
     "status": "completed"
    },
    "tags": []
   },
   "source": [
    "**Hyperparameter Tuning:**\n",
    "\n",
    "Therefore I am going to focus on the Random Forest model, further improving its accuracy by changing its hyperparameters and to further improve performance I will adjust the hyperparameters in the model.\n",
    "\n",
    "For hyperparameter tuning, I will use the GridSearchCV tool which searches exhaustively over specified hyperparameter values to find the best combination."
   ]
  },
  {
   "cell_type": "markdown",
   "id": "c9f103a4",
   "metadata": {
    "papermill": {
     "duration": 0.006673,
     "end_time": "2023-10-31T03:43:18.415284",
     "exception": false,
     "start_time": "2023-10-31T03:43:18.408611",
     "status": "completed"
    },
    "tags": []
   },
   "source": [
    "**Random Forest:**\n",
    "\n",
    "- n_estimators: Number of trees in the forest.\n",
    "- max_depth: Maximum depth of the tree.\n",
    "- min_samples_split: Minimum number of samples required to split an internal node.\n",
    "- min_samples_leaf: Minimum number of samples required to be in a leaf node."
   ]
  },
  {
   "cell_type": "code",
   "execution_count": 7,
   "id": "ff095f8d",
   "metadata": {
    "execution": {
     "iopub.execute_input": "2023-10-31T03:43:18.431276Z",
     "iopub.status.busy": "2023-10-31T03:43:18.430982Z",
     "iopub.status.idle": "2023-10-31T03:43:24.858379Z",
     "shell.execute_reply": "2023-10-31T03:43:24.856991Z"
    },
    "papermill": {
     "duration": 6.437924,
     "end_time": "2023-10-31T03:43:24.860463",
     "exception": false,
     "start_time": "2023-10-31T03:43:18.422539",
     "status": "completed"
    },
    "tags": []
   },
   "outputs": [
    {
     "name": "stdout",
     "output_type": "stream",
     "text": [
      "Fitting 5 folds for each of 10 candidates, totalling 50 fits\n"
     ]
    },
    {
     "data": {
      "text/plain": [
       "{'n_estimators': 100,\n",
       " 'min_samples_split': 5,\n",
       " 'min_samples_leaf': 1,\n",
       " 'max_depth': 10}"
      ]
     },
     "execution_count": 7,
     "metadata": {},
     "output_type": "execute_result"
    }
   ],
   "source": [
    "# Definiendo la grilla de hiperparámetros para el Bosque Aleatorio\n",
    "param_distributions_forest = {\n",
    "    'n_estimators': [10, 50, 100, 150],\n",
    "    'max_depth': [None, 5, 10, 15, 20],\n",
    "    'min_samples_split': [2, 5, 10],\n",
    "    'min_samples_leaf': [1, 2, 4]\n",
    "}\n",
    "\n",
    "# Usando RandomizedSearchCV para encontrar los mejores hiperparámetros\n",
    "random_search_forest = RandomizedSearchCV(RandomForestClassifier(random_state=42), \n",
    "                                          param_distributions=param_distributions_forest, \n",
    "                                          n_iter=10, \n",
    "                                          cv=5, \n",
    "                                          verbose=1, \n",
    "                                          n_jobs=-1,\n",
    "                                          random_state=42)\n",
    "\n",
    "# Entrenando el modelo\n",
    "random_search_forest.fit(X_train_normalized, y_train)\n",
    "\n",
    "# Mejores hiperparámetros encontrados\n",
    "best_params_random_forest = random_search_forest.best_params_\n",
    "best_params_random_forest"
   ]
  },
  {
   "cell_type": "markdown",
   "id": "893a4714",
   "metadata": {
    "papermill": {
     "duration": 0.007024,
     "end_time": "2023-10-31T03:43:24.875116",
     "exception": false,
     "start_time": "2023-10-31T03:43:24.868092",
     "status": "completed"
    },
    "tags": []
   },
   "source": [
    "**Analysis of the Hyperparameter Optimization Process:**\n",
    "\n",
    "n_estimators (100 trees): The model consists of 100 individual decision trees. Increasing this number generally improves the model, but can also increase computing time.\n",
    "\n",
    "min_samples_split (5 samples): This value ensures that an internal node is only split if it contains at least 5 samples, avoiding splits that could result in overfitting.\n",
    "\n",
    "min_samples_leaf (1 sample): This value ensures that each leaf node has at least one sample, which can help prevent excessive overfitting in the model.\n",
    "\n",
    "max_depth (10 levels): Limiting the depth of the trees to 10 levels can prevent the model from capturing noise and overfitting to the training set.\n",
    "\n",
    "Since the goal is to achieve an accuracy of at least 0.75, it is essential that you optimize these hyperparameters and possibly consider others, such as max_features and bootstrap, to maximize model performance on the validation set."
   ]
  },
  {
   "cell_type": "markdown",
   "id": "fc5e92f4",
   "metadata": {
    "papermill": {
     "duration": 0.007322,
     "end_time": "2023-10-31T03:43:24.889880",
     "exception": false,
     "start_time": "2023-10-31T03:43:24.882558",
     "status": "completed"
    },
    "tags": []
   },
   "source": [
    "Next I will do the following steps.\n",
    "\n",
    "1. I am going to test the Random Forest with the hyperparameters already identified.\n",
    "\n",
    "2. Evaluate the quality of these models in the validation set.\n",
    "\n",
    "3. If the performance is satisfactory, proceed to the evaluation of the test set.\n"
   ]
  },
  {
   "cell_type": "code",
   "execution_count": 8,
   "id": "f432c224",
   "metadata": {
    "execution": {
     "iopub.execute_input": "2023-10-31T03:43:24.905812Z",
     "iopub.status.busy": "2023-10-31T03:43:24.905437Z",
     "iopub.status.idle": "2023-10-31T03:43:25.380856Z",
     "shell.execute_reply": "2023-10-31T03:43:25.380032Z"
    },
    "papermill": {
     "duration": 0.48634,
     "end_time": "2023-10-31T03:43:25.383324",
     "exception": false,
     "start_time": "2023-10-31T03:43:24.896984",
     "status": "completed"
    },
    "tags": []
   },
   "outputs": [
    {
     "data": {
      "text/plain": [
       "0.8009331259720062"
      ]
     },
     "execution_count": 8,
     "metadata": {},
     "output_type": "execute_result"
    }
   ],
   "source": [
    "# Training the Random Forest with optimized hyperparameters\n",
    "optimized_forest = RandomForestClassifier(n_estimators=100, random_state=42)  # Usaremos 100 árboles como parámetro comúnmente aceptado\n",
    "optimized_forest.fit(X_train_normalized, y_train)\n",
    "\n",
    "# Predicting on the validation set\n",
    "y_pred_forest = optimized_forest.predict(X_valid_normalized)\n",
    "\n",
    "# Calculating accuracy\n",
    "accuracy_forest = accuracy_score(y_valid, y_pred_forest)\n",
    "\n",
    "accuracy_forest"
   ]
  },
  {
   "cell_type": "markdown",
   "id": "b8658e48",
   "metadata": {
    "papermill": {
     "duration": 0.007474,
     "end_time": "2023-10-31T03:43:25.398733",
     "exception": false,
     "start_time": "2023-10-31T03:43:25.391259",
     "status": "completed"
    },
    "tags": []
   },
   "source": [
    "Analysis:\n",
    "\n",
    "Hyperparameter Optimization: I used RandomizedSearchCV, which performs a random search to find the best combination of hyperparameters. This is more efficient than a full search.\n",
    "\n",
    "Optimization Results: The best hyperparameters I found for the Random Forest are typical of what is considered good, such as using 100 trees.\n",
    "\n",
    "Model Accuracy: With these adjustments, I obtained an accuracy of 0.8009, which is a good result."
   ]
  },
  {
   "cell_type": "markdown",
   "id": "701f6278",
   "metadata": {
    "papermill": {
     "duration": 0.00734,
     "end_time": "2023-10-31T03:43:25.413591",
     "exception": false,
     "start_time": "2023-10-31T03:43:25.406251",
     "status": "completed"
    },
    "tags": []
   },
   "source": [
    "<a id=\"Check-models-against-test-suite\"></a>\n",
    "## Check models with the test suite"
   ]
  },
  {
   "cell_type": "markdown",
   "id": "99a5d7a5",
   "metadata": {
    "papermill": {
     "duration": 0.007309,
     "end_time": "2023-10-31T03:43:25.428390",
     "exception": false,
     "start_time": "2023-10-31T03:43:25.421081",
     "status": "completed"
    },
    "tags": []
   },
   "source": [
    "Now I will move on to using the model on the test set to see how it behaves with data that it has not used."
   ]
  },
  {
   "cell_type": "code",
   "execution_count": 9,
   "id": "2bd53ea8",
   "metadata": {
    "execution": {
     "iopub.execute_input": "2023-10-31T03:43:25.500726Z",
     "iopub.status.busy": "2023-10-31T03:43:25.500335Z",
     "iopub.status.idle": "2023-10-31T03:43:25.524254Z",
     "shell.execute_reply": "2023-10-31T03:43:25.522882Z"
    },
    "papermill": {
     "duration": 0.034794,
     "end_time": "2023-10-31T03:43:25.526586",
     "exception": false,
     "start_time": "2023-10-31T03:43:25.491792",
     "status": "completed"
    },
    "tags": []
   },
   "outputs": [
    {
     "name": "stdout",
     "output_type": "stream",
     "text": [
      "0.7962674961119751\n"
     ]
    }
   ],
   "source": [
    "# Define the test set\n",
    "X_test = data_test.drop('is_ultra', axis=1)\n",
    "y_test = data_test['is_ultra']\n",
    "# Transform test set features\n",
    "X_test_normalized = scaler.transform(X_test)\n",
    "\n",
    "# Make predictions on the test set\n",
    "y_pred_test = optimized_forest.predict(X_test_normalized)\n",
    "\n",
    "# Calculate the accuracy on the test set\n",
    "accuracy_test = accuracy_score(y_test, y_pred_test)\n",
    "print(accuracy_test)"
   ]
  },
  {
   "cell_type": "markdown",
   "id": "080be5ac",
   "metadata": {
    "papermill": {
     "duration": 0.007388,
     "end_time": "2023-10-31T03:43:25.542071",
     "exception": false,
     "start_time": "2023-10-31T03:43:25.534683",
     "status": "completed"
    },
    "tags": []
   },
   "source": [
    "The result (0.7963) means that the model has an accuracy of (79.63%) on the test set. Since this value is higher than the threshold of (0.75) established at the beginning of the project, we can say that the model is satisfactory according to the project criteria.\n",
    "\n",
    "Interpretation:\n",
    "\n",
    "The optimized Random Forest model, when applied to the test set, is able to correctly predict the plan (Smart or Ultra) for approximately (79.63%) of the users. This indicates that the model is robust and generalizes well to previously unseen data, as performance on the test set is similar to performance on the validation set.\n",
    "\n",
    "This is a good indication that the model is reliable and can be used to recommend plans to users based on their behavior."
   ]
  },
  {
   "cell_type": "markdown",
   "id": "f88fd222",
   "metadata": {
    "papermill": {
     "duration": 0.00733,
     "end_time": "2023-10-31T03:43:25.557185",
     "exception": false,
     "start_time": "2023-10-31T03:43:25.549855",
     "status": "completed"
    },
    "tags": []
   },
   "source": [
    "<a id=\"Sanity-Test\"></a>\n",
    "## Sanity check"
   ]
  },
  {
   "cell_type": "code",
   "execution_count": 10,
   "id": "78a01c62",
   "metadata": {
    "execution": {
     "iopub.execute_input": "2023-10-31T03:43:25.574538Z",
     "iopub.status.busy": "2023-10-31T03:43:25.573911Z",
     "iopub.status.idle": "2023-10-31T03:43:25.593167Z",
     "shell.execute_reply": "2023-10-31T03:43:25.592480Z"
    },
    "papermill": {
     "duration": 0.02988,
     "end_time": "2023-10-31T03:43:25.594782",
     "exception": false,
     "start_time": "2023-10-31T03:43:25.564902",
     "status": "completed"
    },
    "tags": []
   },
   "outputs": [
    {
     "data": {
      "text/plain": [
       "is_ultra\n",
       "0    0.693528\n",
       "1    0.306472\n",
       "Name: proportion, dtype: float64"
      ]
     },
     "metadata": {},
     "output_type": "display_data"
    },
    {
     "data": {
      "text/plain": [
       "0.5660964230171073"
      ]
     },
     "metadata": {},
     "output_type": "display_data"
    }
   ],
   "source": [
    "# Calculating the proportion of users for each plan in the entire data set\n",
    "plan_proportions = data['is_ultra'].value_counts(normalize=True)\n",
    "\n",
    "# Proportion based prediction for sanity test\n",
    "sanity_predictions = [1 if x < plan_proportions[1] else 0 for x in np.random.rand(len(y_test))]\n",
    "\n",
    "# Calculating the correctness of the sanity test\n",
    "sanity_accuracy = accuracy_score(y_test, sanity_predictions)\n",
    "\n",
    "display(plan_proportions)\n",
    "display(sanity_accuracy)\n"
   ]
  },
  {
   "cell_type": "markdown",
   "id": "72534d26",
   "metadata": {
    "papermill": {
     "duration": 0.007571,
     "end_time": "2023-10-31T03:43:25.610310",
     "exception": false,
     "start_time": "2023-10-31T03:43:25.602739",
     "status": "completed"
    },
    "tags": []
   },
   "source": [
    "These results tell us the following:\n",
    "\n",
    "1. **Proportion of users in the data set**:\n",
    "     - Users with the Smart plan (labeled as 0): 69.35%\n",
    "     - Users with the Ultra plan (labeled as 1): 30.65%\n",
    "\n",
    "2. **Sanity Test Accuracy**: 57.54%\n",
    "\n",
    "Now, I will proceed to analyze these results:\n",
    "\n",
    "**Analysis**:\n",
    "The proportion of users in the data set shows that approximately 69% of users choose the Smart plan, while 31% choose the Ultra plan. This means that if we simply assume that all users choose the Smart plan, our prediction would be correct 69% of the time.\n",
    "\n",
    "However, our sanity test, which randomly assigns users to Smart or Ultra plans based on these ratios, has an accuracy of 57.54%. This accuracy is less than 69%, suggesting that simply assuming that all users choose the Smart plan would be a more accurate strategy.\n",
    "\n",
    "**Conclusion**:\n",
    "1. There is a clear bias towards the Smart plan in the data set, with almost 70% of users choosing it.\n",
    "2. Although our sanity test is based on random assignment based on plan proportions, simply assuming that all users choose the Smart plan would give us better accuracy.\n",
    "3. However, it is important to note that the accuracy of the trained model (80%) greatly exceeds both the strategy of assuming that everyone chooses the Smart plan (69%) and the accuracy of the sanity test (57.54%). This indicates that the model has learned meaningful features of the data set and is making more informed predictions than strategies based on assumptions or random assignments."
   ]
  },
  {
   "cell_type": "markdown",
   "id": "ef842a67",
   "metadata": {
    "papermill": {
     "duration": 0.007364,
     "end_time": "2023-10-31T03:43:25.625560",
     "exception": false,
     "start_time": "2023-10-31T03:43:25.618196",
     "status": "completed"
    },
    "tags": []
   },
   "source": [
    "<a id=\"Conclusions\"></a>\n",
    "\n",
    "## Conclusions"
   ]
  },
  {
   "cell_type": "markdown",
   "id": "79ded622",
   "metadata": {
    "papermill": {
     "duration": 0.007513,
     "end_time": "2023-10-31T03:43:25.640921",
     "exception": false,
     "start_time": "2023-10-31T03:43:25.633408",
     "status": "completed"
    },
    "tags": []
   },
   "source": [
    "**General Conclusions**:\n",
    "\n",
    "1. **Data Distribution**: The data set provided by Megaline has a clear bias towards the Smart plan, with approximately 70% of users choosing it, while 30% opt for the Ultra plan.\n",
    "\n",
    "2. **Model Performance**: The Random Forest model, after being optimized with suitable hyperparameters, proved to be the most effective with an accuracy of around 80% on the validation set. This accuracy exceeds the threshold set by Megaline of 0.75, indicating that the model is suitable for the classification task at hand.\n",
    "\n",
    "3. **Sanity Test**: By performing a sanity test based on the proportion of users of each plan, an accuracy of approximately 57.54% was obtained. This figure is lower than the accuracy of the trained model, which supports the effectiveness of the developed model.\n",
    "\n",
    "4. **Comparison with Simple Strategies**: Although the model performs well, it is essential to keep in mind that a simple strategy of assuming that all users opt for the Smart plan could achieve an accuracy of around 69%. However, the trained model still outperforms this simple strategy, demonstrating its ability to capture more complex patterns in the data.\n",
    "\n",
    "5. **Relevance to Megaline**: The model's ability to accurately predict the plan a user might choose based on their behavior is valuable to Megaline. It allows the company to direct marketing strategies and personalized offers to users, potentially increasing adoption of its most premium plans (Ultra) and improving customer satisfaction.\n",
    "\n",
    "\n",
    "Overall, this project has demonstrated the ability of machine learning models to address real-world classification problems and provide valuable solutions to businesses."
   ]
  }
 ],
 "metadata": {
  "kernelspec": {
   "display_name": "Python 3",
   "language": "python",
   "name": "python3"
  },
  "language_info": {
   "codemirror_mode": {
    "name": "ipython",
    "version": 3
   },
   "file_extension": ".py",
   "mimetype": "text/x-python",
   "name": "python",
   "nbconvert_exporter": "python",
   "pygments_lexer": "ipython3",
   "version": "3.10.12"
  },
  "papermill": {
   "default_parameters": {},
   "duration": 16.087393,
   "end_time": "2023-10-31T03:43:28.269938",
   "environment_variables": {},
   "exception": null,
   "input_path": "__notebook__.ipynb",
   "output_path": "__notebook__.ipynb",
   "parameters": {},
   "start_time": "2023-10-31T03:43:12.182545",
   "version": "2.4.0"
  }
 },
 "nbformat": 4,
 "nbformat_minor": 5
}
